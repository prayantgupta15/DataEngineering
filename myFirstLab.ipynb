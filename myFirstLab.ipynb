{
  "nbformat": 4,
  "nbformat_minor": 0,
  "metadata": {
    "colab": {
      "provenance": [],
      "authorship_tag": "ABX9TyMdD1eElAVKOzBIGLQLSVrs",
      "include_colab_link": true
    },
    "kernelspec": {
      "name": "python3",
      "display_name": "Python 3"
    },
    "language_info": {
      "name": "python"
    }
  },
  "cells": [
    {
      "cell_type": "markdown",
      "metadata": {
        "id": "view-in-github",
        "colab_type": "text"
      },
      "source": [
        "<a href=\"https://colab.research.google.com/github/prayantgupta15/DataEngineering/blob/main/myFirstLab.ipynb\" target=\"_parent\"><img src=\"https://colab.research.google.com/assets/colab-badge.svg\" alt=\"Open In Colab\"/></a>"
      ]
    },
    {
      "cell_type": "code",
      "execution_count": null,
      "metadata": {
        "colab": {
          "base_uri": "https://localhost:8080/"
        },
        "id": "wD28UoXKCDhM",
        "outputId": "4eed588e-77a4-44e9-c422-946bfc8ffe02"
      },
      "outputs": [
        {
          "output_type": "stream",
          "name": "stdout",
          "text": [
            "Hello\n"
          ]
        }
      ],
      "source": [
        "print(\"Hello\")"
      ]
    },
    {
      "cell_type": "code",
      "source": [
        "!pip install numpy"
      ],
      "metadata": {
        "colab": {
          "base_uri": "https://localhost:8080/"
        },
        "id": "cZTJwVNECOWU",
        "outputId": "350f2c1b-8150-439b-b7de-5168e2130a95"
      },
      "execution_count": null,
      "outputs": [
        {
          "output_type": "stream",
          "name": "stdout",
          "text": [
            "Requirement already satisfied: numpy in /usr/local/lib/python3.10/dist-packages (1.23.5)\n"
          ]
        }
      ]
    },
    {
      "cell_type": "code",
      "source": [
        "import numpy as np"
      ],
      "metadata": {
        "id": "8jb7ePFpCey9"
      },
      "execution_count": 3,
      "outputs": []
    },
    {
      "cell_type": "code",
      "source": [
        "np"
      ],
      "metadata": {
        "colab": {
          "base_uri": "https://localhost:8080/"
        },
        "id": "rCzW5ZN4Ctes",
        "outputId": "c6112b96-355f-467f-ff4d-89689d6a432f"
      },
      "execution_count": null,
      "outputs": [
        {
          "output_type": "execute_result",
          "data": {
            "text/plain": [
              "<module 'numpy' from '/usr/local/lib/python3.10/dist-packages/numpy/__init__.py'>"
            ]
          },
          "metadata": {},
          "execution_count": 6
        }
      ]
    },
    {
      "cell_type": "code",
      "source": [
        "lst = [1,2,3]\n",
        "print(type(lst))"
      ],
      "metadata": {
        "colab": {
          "base_uri": "https://localhost:8080/"
        },
        "id": "SHPOrrh-CvFw",
        "outputId": "13103265-b423-49e8-fbef-80758c5910c0"
      },
      "execution_count": null,
      "outputs": [
        {
          "output_type": "stream",
          "name": "stdout",
          "text": [
            "<class 'list'>\n"
          ]
        }
      ]
    },
    {
      "cell_type": "code",
      "source": [
        "arr= np.array(lst)"
      ],
      "metadata": {
        "id": "YDD5Kf6_C1yH"
      },
      "execution_count": null,
      "outputs": []
    },
    {
      "cell_type": "code",
      "source": [
        "print(arr)"
      ],
      "metadata": {
        "colab": {
          "base_uri": "https://localhost:8080/"
        },
        "id": "KoYiRZ6bDNtp",
        "outputId": "9564f0c4-d5b8-4bfa-c60b-1dddd084ba4b"
      },
      "execution_count": null,
      "outputs": [
        {
          "output_type": "stream",
          "name": "stdout",
          "text": [
            "[1 2 3]\n"
          ]
        }
      ]
    },
    {
      "cell_type": "code",
      "source": [
        "print(type(arr))"
      ],
      "metadata": {
        "colab": {
          "base_uri": "https://localhost:8080/"
        },
        "id": "s_5WgrnODPKz",
        "outputId": "d412c2b5-ae10-47a8-d540-9e7712ec3dbf"
      },
      "execution_count": null,
      "outputs": [
        {
          "output_type": "stream",
          "name": "stdout",
          "text": [
            "<class 'numpy.ndarray'>\n"
          ]
        }
      ]
    },
    {
      "cell_type": "code",
      "source": [
        "import numpy as np"
      ],
      "metadata": {
        "id": "sbwsJoYIDR-L"
      },
      "execution_count": null,
      "outputs": []
    },
    {
      "cell_type": "code",
      "source": [
        "np"
      ],
      "metadata": {
        "colab": {
          "base_uri": "https://localhost:8080/"
        },
        "id": "rl5k7ZMqR16N",
        "outputId": "55d5e900-b483-4220-fa87-94fe16b166ef"
      },
      "execution_count": null,
      "outputs": [
        {
          "output_type": "execute_result",
          "data": {
            "text/plain": [
              "<module 'numpy' from '/usr/local/lib/python3.10/dist-packages/numpy/__init__.py'>"
            ]
          },
          "metadata": {},
          "execution_count": 2
        }
      ]
    },
    {
      "cell_type": "code",
      "source": [
        "type(np)"
      ],
      "metadata": {
        "colab": {
          "base_uri": "https://localhost:8080/"
        },
        "id": "UBgRLh9UR3ju",
        "outputId": "3c4f3560-99f6-4c89-9509-3b2ee66884d5"
      },
      "execution_count": null,
      "outputs": [
        {
          "output_type": "execute_result",
          "data": {
            "text/plain": [
              "module"
            ]
          },
          "metadata": {},
          "execution_count": 3
        }
      ]
    },
    {
      "cell_type": "code",
      "source": [
        "lst = [1,2,3]"
      ],
      "metadata": {
        "id": "UaQRA7tlR47Y"
      },
      "execution_count": null,
      "outputs": []
    },
    {
      "cell_type": "code",
      "source": [
        "nplst = np.array(lst)\n",
        "nplst"
      ],
      "metadata": {
        "colab": {
          "base_uri": "https://localhost:8080/"
        },
        "id": "Ze0B-GcNR-Og",
        "outputId": "a9c7d279-d28d-4fb0-b64f-06aeb3ff8edb"
      },
      "execution_count": null,
      "outputs": [
        {
          "output_type": "execute_result",
          "data": {
            "text/plain": [
              "array([1, 2, 3])"
            ]
          },
          "metadata": {},
          "execution_count": 5
        }
      ]
    },
    {
      "cell_type": "code",
      "source": [
        "nplst.ndim"
      ],
      "metadata": {
        "colab": {
          "base_uri": "https://localhost:8080/"
        },
        "id": "lPLf06LfSO8H",
        "outputId": "55e0c4e1-479e-42ec-f725-924e8233cd72"
      },
      "execution_count": null,
      "outputs": [
        {
          "output_type": "execute_result",
          "data": {
            "text/plain": [
              "1"
            ]
          },
          "metadata": {},
          "execution_count": 8
        }
      ]
    },
    {
      "cell_type": "code",
      "source": [
        "nplst.shape"
      ],
      "metadata": {
        "colab": {
          "base_uri": "https://localhost:8080/"
        },
        "id": "yu82IEobSUS4",
        "outputId": "49171292-24fd-427b-bbb6-ad5451a54ee6"
      },
      "execution_count": null,
      "outputs": [
        {
          "output_type": "execute_result",
          "data": {
            "text/plain": [
              "(3,)"
            ]
          },
          "metadata": {},
          "execution_count": 9
        }
      ]
    },
    {
      "cell_type": "code",
      "source": [
        "sq = [\n",
        "    [1,2,3],\n",
        "    [1,2,3]\n",
        "]\n",
        "sq = np.array(sq)\n",
        "sq.shape"
      ],
      "metadata": {
        "colab": {
          "base_uri": "https://localhost:8080/"
        },
        "id": "t3l5X5rOSb2v",
        "outputId": "f3c60a77-fe73-4589-ce2b-97ded9dfc500"
      },
      "execution_count": null,
      "outputs": [
        {
          "output_type": "execute_result",
          "data": {
            "text/plain": [
              "(2, 3)"
            ]
          },
          "metadata": {},
          "execution_count": 13
        }
      ]
    },
    {
      "cell_type": "code",
      "source": [
        "sq.ndim"
      ],
      "metadata": {
        "colab": {
          "base_uri": "https://localhost:8080/"
        },
        "id": "woTE9zOdaFdH",
        "outputId": "9ea85759-2433-4de8-964e-b9cb14c36a60"
      },
      "execution_count": null,
      "outputs": [
        {
          "output_type": "execute_result",
          "data": {
            "text/plain": [
              "2"
            ]
          },
          "metadata": {},
          "execution_count": 14
        }
      ]
    },
    {
      "cell_type": "code",
      "source": [
        "z = np.zeros((2,3))"
      ],
      "metadata": {
        "id": "2yViPPb4aRSe"
      },
      "execution_count": null,
      "outputs": []
    },
    {
      "cell_type": "code",
      "source": [
        "z"
      ],
      "metadata": {
        "colab": {
          "base_uri": "https://localhost:8080/"
        },
        "id": "j0iPmw5EaVbr",
        "outputId": "dd6c1eaa-a27f-4e94-cb9a-eed0a1a6740f"
      },
      "execution_count": null,
      "outputs": [
        {
          "output_type": "execute_result",
          "data": {
            "text/plain": [
              "array([[0., 0., 0.],\n",
              "       [0., 0., 0.]])"
            ]
          },
          "metadata": {},
          "execution_count": 17
        }
      ]
    },
    {
      "cell_type": "code",
      "source": [
        "one = np.random.random()\n",
        "one"
      ],
      "metadata": {
        "colab": {
          "base_uri": "https://localhost:8080/"
        },
        "id": "M5P6JBgJaWUv",
        "outputId": "c823e4af-4eff-4780-ce5b-f5a2a1f42fe9"
      },
      "execution_count": null,
      "outputs": [
        {
          "output_type": "execute_result",
          "data": {
            "text/plain": [
              "0.16891286953662077"
            ]
          },
          "metadata": {},
          "execution_count": 16
        }
      ]
    },
    {
      "cell_type": "code",
      "source": [
        "arr  = np.random.random((2,3))\n",
        "arr"
      ],
      "metadata": {
        "colab": {
          "base_uri": "https://localhost:8080/"
        },
        "id": "BkSuYJOCbKKD",
        "outputId": "c10d1865-5ddf-43c9-b3e4-03cf9b5c7c22"
      },
      "execution_count": null,
      "outputs": [
        {
          "output_type": "execute_result",
          "data": {
            "text/plain": [
              "array([[0.64242864, 0.22842604, 0.37922994],\n",
              "       [0.63790185, 0.73456288, 0.99225896]])"
            ]
          },
          "metadata": {},
          "execution_count": 7
        }
      ]
    },
    {
      "cell_type": "code",
      "source": [
        "arr.reshape((3,2))"
      ],
      "metadata": {
        "colab": {
          "base_uri": "https://localhost:8080/"
        },
        "id": "IN4Z4CplMjc0",
        "outputId": "34f684e2-14fa-4363-8132-e9a825715f11"
      },
      "execution_count": null,
      "outputs": [
        {
          "output_type": "execute_result",
          "data": {
            "text/plain": [
              "array([[0.64242864, 0.22842604],\n",
              "       [0.37922994, 0.63790185],\n",
              "       [0.73456288, 0.99225896]])"
            ]
          },
          "metadata": {},
          "execution_count": 8
        }
      ]
    },
    {
      "cell_type": "code",
      "source": [
        "arr = np.arange(1,10,1)\n",
        "arr"
      ],
      "metadata": {
        "colab": {
          "base_uri": "https://localhost:8080/"
        },
        "id": "CYYeU__ZMnk6",
        "outputId": "854b0e6c-0041-42f9-ba1c-7b954ea7a793"
      },
      "execution_count": null,
      "outputs": [
        {
          "output_type": "execute_result",
          "data": {
            "text/plain": [
              "array([1, 2, 3, 4, 5, 6, 7, 8, 9])"
            ]
          },
          "metadata": {},
          "execution_count": 9
        }
      ]
    },
    {
      "cell_type": "code",
      "source": [
        "arr = np.linspace(1,10,9)\n",
        "arr"
      ],
      "metadata": {
        "colab": {
          "base_uri": "https://localhost:8080/"
        },
        "id": "Z_W_5rhCMtx8",
        "outputId": "06c30db8-748f-4464-9fed-bee06ae727b6"
      },
      "execution_count": null,
      "outputs": [
        {
          "output_type": "execute_result",
          "data": {
            "text/plain": [
              "array([ 1.   ,  2.125,  3.25 ,  4.375,  5.5  ,  6.625,  7.75 ,  8.875,\n",
              "       10.   ])"
            ]
          },
          "metadata": {},
          "execution_count": 12
        }
      ]
    },
    {
      "cell_type": "code",
      "source": [
        "arr1 = np.arange(1,5,1)\n",
        "arr1 = arr1+1\n",
        "arr1"
      ],
      "metadata": {
        "id": "qdOKhUJmM2YB",
        "colab": {
          "base_uri": "https://localhost:8080/"
        },
        "outputId": "74e925c4-3fb9-4838-c39e-b45654173246"
      },
      "execution_count": 13,
      "outputs": [
        {
          "output_type": "execute_result",
          "data": {
            "text/plain": [
              "array([2, 3, 4, 5])"
            ]
          },
          "metadata": {},
          "execution_count": 13
        }
      ]
    },
    {
      "cell_type": "code",
      "source": [
        "s = arr1.sum()\n",
        "print(\"sum:\",s)\n",
        "maxVal = arr1.max()\n",
        "print(\"maxVal:\",maxVal)\n",
        "\n",
        "minVal = arr1.min()\n",
        "print(\"min:\",minVal)"
      ],
      "metadata": {
        "colab": {
          "base_uri": "https://localhost:8080/"
        },
        "id": "PkV4qdQD3k4O",
        "outputId": "e99bb395-0a27-43b2-c41e-d8689545da39"
      },
      "execution_count": 21,
      "outputs": [
        {
          "output_type": "stream",
          "name": "stdout",
          "text": [
            "sum: 14\n",
            "maxVal: 5\n",
            "min: 2\n"
          ]
        }
      ]
    },
    {
      "cell_type": "code",
      "source": [
        "arr_2d = np.random.randint(10,size=(3,3))\n",
        "print(arr_2d)\n",
        "print(arr_2d+1)\n",
        "cols_max = arr_2d.max(axis=0)\n",
        "print(cols_max)\n",
        "\n",
        "rows_max = arr_2d.max(axis=1)\n",
        "print(rows_max)"
      ],
      "metadata": {
        "colab": {
          "base_uri": "https://localhost:8080/"
        },
        "id": "TGcPUjSR6cAv",
        "outputId": "4d74df28-5c54-496f-97da-e81d23aa9196"
      },
      "execution_count": 4,
      "outputs": [
        {
          "output_type": "stream",
          "name": "stdout",
          "text": [
            "[[8 6 1]\n",
            " [1 7 7]\n",
            " [8 7 0]]\n",
            "[[9 7 2]\n",
            " [2 8 8]\n",
            " [9 8 1]]\n",
            "[8 7 7]\n",
            "[8 7 8]\n"
          ]
        }
      ]
    },
    {
      "cell_type": "code",
      "source": [
        "arr_2d_1 = arr_2d\n",
        "arr_2d_2 = arr_2d + 1\n",
        "print(arr_2d_2)\n",
        "print(arr_2d_1+arr_2d_2)\n",
        "print(arr_2d_1*arr_2d_1)"
      ],
      "metadata": {
        "colab": {
          "base_uri": "https://localhost:8080/"
        },
        "id": "yij7Z3zJ7Q5F",
        "outputId": "962b4492-bf68-43df-e970-d7a0fc5d2cda"
      },
      "execution_count": 5,
      "outputs": [
        {
          "output_type": "stream",
          "name": "stdout",
          "text": [
            "[[9 7 2]\n",
            " [2 8 8]\n",
            " [9 8 1]]\n",
            "[[17 13  3]\n",
            " [ 3 15 15]\n",
            " [17 15  1]]\n",
            "[[64 36  1]\n",
            " [ 1 49 49]\n",
            " [64 49  0]]\n"
          ]
        }
      ]
    },
    {
      "cell_type": "code",
      "source": [
        "arr = np.random.randint(10,size=(5,6))\n",
        "print(arr)\n",
        "print(\"slice\",arr[2:,2:])\n",
        "# print(arr*arr_2d_1)\n",
        "# np.sort(a=arr,axis=1,kind='mergesort')\n",
        "\n",
        "np.sort(a=arr,axis=0,kind='mergesort')\n",
        "# print(\"\\n\")\n",
        "# print(arr)"
      ],
      "metadata": {
        "colab": {
          "base_uri": "https://localhost:8080/"
        },
        "id": "mnNmMtbIYL4u",
        "outputId": "5b33888e-9c32-4e0a-c6f0-a1d7e7085ab6"
      },
      "execution_count": 23,
      "outputs": [
        {
          "output_type": "stream",
          "name": "stdout",
          "text": [
            "[[2 8 1 8 9 1]\n",
            " [9 0 4 4 7 1]\n",
            " [3 3 8 8 5 0]\n",
            " [2 9 8 3 3 8]\n",
            " [3 7 8 4 9 4]]\n",
            "slice [[8 8 5 0]\n",
            " [8 3 3 8]\n",
            " [8 4 9 4]]\n"
          ]
        },
        {
          "output_type": "execute_result",
          "data": {
            "text/plain": [
              "array([[2, 0, 1, 3, 3, 0],\n",
              "       [2, 3, 4, 4, 5, 1],\n",
              "       [3, 7, 8, 4, 7, 1],\n",
              "       [3, 8, 8, 8, 9, 4],\n",
              "       [9, 9, 8, 8, 9, 8]])"
            ]
          },
          "metadata": {},
          "execution_count": 23
        }
      ]
    },
    {
      "cell_type": "code",
      "source": [
        "\n"
      ],
      "metadata": {
        "id": "507STy3vr_3h"
      },
      "execution_count": null,
      "outputs": []
    }
  ]
}